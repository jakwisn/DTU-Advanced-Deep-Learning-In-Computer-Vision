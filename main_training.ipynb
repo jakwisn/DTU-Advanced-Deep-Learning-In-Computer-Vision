{
 "cells": [
  {
   "cell_type": "code",
   "execution_count": 5,
   "id": "e9f77425-d5d7-4c2c-bc15-ff197d386acf",
   "metadata": {
    "tags": []
   },
   "outputs": [
    {
     "name": "stdout",
     "output_type": "stream",
     "text": [
      "The autoreload extension is already loaded. To reload it, use:\n",
      "  %reload_ext autoreload\n"
     ]
    }
   ],
   "source": [
    "%load_ext autoreload\n",
    "%autoreload 2"
   ]
  },
  {
   "cell_type": "code",
   "execution_count": 20,
   "id": "982f795c-a6bc-4195-a039-d2e9e4a2aa78",
   "metadata": {
    "tags": []
   },
   "outputs": [],
   "source": [
    "import os\n",
    "from PIL import Image\n",
    "import numpy as np\n",
    "import torch\n",
    "from torch.utils.data import Dataset, DataLoader\n",
    "from torchvision import transforms\n",
    "from torchvision.transforms import v2\n",
    "from torchvision.transforms.functional import adjust_contrast\n",
    "import matplotlib.pyplot as plt\n",
    "import glob"
   ]
  },
  {
   "cell_type": "code",
   "execution_count": 21,
   "id": "0789de3d-683a-49bb-9c7a-61456c4a7d94",
   "metadata": {
    "tags": []
   },
   "outputs": [],
   "source": [
    "from dataset import *"
   ]
  },
  {
   "cell_type": "code",
   "execution_count": 22,
   "id": "050deb13-904b-4c7d-84fa-39d337eeebad",
   "metadata": {
    "tags": []
   },
   "outputs": [
    {
     "ename": "error",
     "evalue": "OpenCV(4.8.0) :-1: error: (-5:Bad argument) in function 'cvtColor'\n> Overload resolution failed:\n>  - src is not a numpy array, neither a scalar\n>  - Expected Ptr<cv::UMat> for argument 'src'\n",
     "output_type": "error",
     "traceback": [
      "\u001b[1;31m---------------------------------------------------------------------------\u001b[0m",
      "\u001b[1;31merror\u001b[0m                                     Traceback (most recent call last)",
      "Cell \u001b[1;32mIn[22], line 11\u001b[0m\n\u001b[0;32m      8\u001b[0m validation_dataset \u001b[38;5;241m=\u001b[39m CorrectionImageDataset(\u001b[38;5;124m'\u001b[39m\u001b[38;5;124mdata/validation/GT_IMAGES\u001b[39m\u001b[38;5;124m'\u001b[39m, transform\u001b[38;5;241m=\u001b[39mtransform)\n\u001b[0;32m     10\u001b[0m \u001b[38;5;66;03m# test set must be done with the same data \u001b[39;00m\n\u001b[1;32m---> 11\u001b[0m new_im, og_im \u001b[38;5;241m=\u001b[39m \u001b[43mtrain_dataset\u001b[49m\u001b[43m[\u001b[49m\u001b[38;5;241;43m5\u001b[39;49m\u001b[43m]\u001b[49m\n\u001b[0;32m     13\u001b[0m fig, axs \u001b[38;5;241m=\u001b[39m plt\u001b[38;5;241m.\u001b[39msubplots(\u001b[38;5;241m1\u001b[39m,\u001b[38;5;241m2\u001b[39m)\n\u001b[0;32m     14\u001b[0m axs[\u001b[38;5;241m0\u001b[39m]\u001b[38;5;241m.\u001b[39mimshow(new_im\u001b[38;5;241m.\u001b[39mpermute((\u001b[38;5;241m1\u001b[39m,\u001b[38;5;241m2\u001b[39m,\u001b[38;5;241m0\u001b[39m)))\n",
      "File \u001b[1;32m~\\Documenter\\Master\\02501_ADLCV\\Project\\DTU-Advanced-Deep-Learning-In-Computer-Vision\\dataset.py:20\u001b[0m, in \u001b[0;36m__getitem__\u001b[1;34m(self, idx)\u001b[0m\n\u001b[0;32m     18\u001b[0m def __getitem__(self, idx):\n\u001b[0;32m     19\u001b[0m     img_name = os.path.join(self.root_dir, self.file_list[idx])\n\u001b[1;32m---> 20\u001b[0m     image = Image.open(img_name)\n\u001b[0;32m     21\u001b[0m     if self.transform:\n\u001b[0;32m     22\u001b[0m         image = self.transform(image)\n",
      "File \u001b[1;32m~\\Documenter\\Master\\02501_ADLCV\\Project\\DTU-Advanced-Deep-Learning-In-Computer-Vision\\dataset.py:41\u001b[0m, in \u001b[0;36mincrease_brightness\u001b[1;34m(img, value)\u001b[0m\n\u001b[0;32m     39\u001b[0m \n\u001b[0;32m     40\u001b[0m increase_brightness(img, value=30):\n\u001b[1;32m---> 41\u001b[0m hsv = cv2.cvtColor(img, cv2.COLOR_RGB2HSV)\n\u001b[0;32m     42\u001b[0m h, s, v = cv2.split(hsv)\n\u001b[0;32m     43\u001b[0m \n",
      "\u001b[1;31merror\u001b[0m: OpenCV(4.8.0) :-1: error: (-5:Bad argument) in function 'cvtColor'\n> Overload resolution failed:\n>  - src is not a numpy array, neither a scalar\n>  - Expected Ptr<cv::UMat> for argument 'src'\n"
     ]
    }
   ],
   "source": [
    "transform = transforms.Compose([\n",
    "    transforms.ToTensor(),                # from [0,255] to range [0.0,1.0]\n",
    "    v2.RandomCrop(size=(256, 256))\n",
    "    ])\n",
    "\n",
    "input_images = glob.glob('data/training/INPUT_IMAGES/*P1.5.JPG')\n",
    "train_dataset = CorrectionImageDataset(input_images, transform=transform, return_og=True)\n",
    "validation_dataset = CorrectionImageDataset('data/validation/GT_IMAGES', transform=transform)\n",
    "\n",
    "# test set must be done with the same data \n",
    "new_im, og_im = train_dataset[5]\n",
    "\n",
    "fig, axs = plt.subplots(1,2)\n",
    "axs[0].imshow(new_im.permute((1,2,0)))\n",
    "axs[1].imshow(og_im.permute((1,2,0)))\n",
    "print((new_im-og_im).sum())"
   ]
  },
  {
   "cell_type": "code",
   "execution_count": 18,
   "id": "38a2c684-2d89-4272-83d8-b885310cd1a5",
   "metadata": {
    "tags": []
   },
   "outputs": [
    {
     "data": {
      "text/plain": [
       "3535"
      ]
     },
     "execution_count": 18,
     "metadata": {},
     "output_type": "execute_result"
    }
   ],
   "source": [
    "len(train_dataset)"
   ]
  },
  {
   "cell_type": "code",
   "execution_count": null,
   "id": "61c0c11f-fb20-46a7-a1ba-e72e5a45a265",
   "metadata": {
    "tags": []
   },
   "outputs": [],
   "source": [
    "len(validation_dataset)"
   ]
  },
  {
   "cell_type": "markdown",
   "id": "7cfcb255-238f-430d-98cd-0a6a4a298cfb",
   "metadata": {},
   "source": [
    "# Training the model"
   ]
  },
  {
   "cell_type": "code",
   "execution_count": null,
   "id": "0043a532-9887-4864-8410-944be6cffd2c",
   "metadata": {
    "tags": []
   },
   "outputs": [],
   "source": [
    "from ddpm.ddpm import *\n",
    "from ddpm.ddpm_train import *\n",
    "\n",
    "BATCH_SIZE=2\n",
    "RESIZE_SIZE = 256\n",
    "IM_SIZE=64\n",
    "\n",
    "\n",
    "transform = transforms.Compose([\n",
    "    transforms.ToTensor(),                # from [0,255] to range [0.0,1.0]\n",
    "    v2.Resize(size=(RESIZE_SIZE, RESIZE_SIZE)),\n",
    "    v2.RandomCrop(size=(IM_SIZE, IM_SIZE))\n",
    "    ])"
   ]
  },
  {
   "cell_type": "code",
   "execution_count": null,
   "id": "38b12549-5c6d-4af5-acc0-f46ba3c2fff7",
   "metadata": {
    "tags": []
   },
   "outputs": [],
   "source": [
    "device = torch.device('cuda' if torch.cuda.is_available() else None)  \n",
    "print(f\"Model will run on {device}\")\n",
    "\n",
    "\n",
    "train_dataset = CorrectionImageDataset('data/training/GT_IMAGES', transform=transform, return_og=False)\n",
    "dataloader = DataLoader(train_dataset, batch_size=BATCH_SIZE, shuffle=True)\n",
    "train(dataloader, device=device, T=250, img_size=IM_SIZE, batch_size=BATCH_SIZE)"
   ]
  },
  {
   "cell_type": "code",
   "execution_count": null,
   "id": "4d4666cb-21a2-4f13-96b0-81c9c32f865f",
   "metadata": {},
   "outputs": [],
   "source": []
  }
 ],
 "metadata": {
  "kernelspec": {
   "display_name": "Python 3 (ipykernel)",
   "language": "python",
   "name": "python3"
  },
  "language_info": {
   "codemirror_mode": {
    "name": "ipython",
    "version": 3
   },
   "file_extension": ".py",
   "mimetype": "text/x-python",
   "name": "python",
   "nbconvert_exporter": "python",
   "pygments_lexer": "ipython3",
   "version": "3.10.10"
  }
 },
 "nbformat": 4,
 "nbformat_minor": 5
}
