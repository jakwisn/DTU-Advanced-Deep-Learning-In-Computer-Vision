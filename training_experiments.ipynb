{
 "cells": [
  {
   "cell_type": "code",
   "execution_count": 1,
   "id": "e9f77425-d5d7-4c2c-bc15-ff197d386acf",
   "metadata": {
    "tags": []
   },
   "outputs": [],
   "source": [
    "%load_ext autoreload\n",
    "%autoreload 2"
   ]
  },
  {
   "cell_type": "code",
   "execution_count": 2,
   "id": "982f795c-a6bc-4195-a039-d2e9e4a2aa78",
   "metadata": {
    "tags": []
   },
   "outputs": [
    {
     "name": "stderr",
     "output_type": "stream",
     "text": [
      "/home/jakwisn/.pyenv/versions/3.11.4/lib/python3.11/site-packages/torchvision/datapoints/__init__.py:12: UserWarning: The torchvision.datapoints and torchvision.transforms.v2 namespaces are still Beta. While we do not expect major breaking changes, some APIs may still change according to user feedback. Please submit any feedback you may have in this issue: https://github.com/pytorch/vision/issues/6753, and you can also check out https://github.com/pytorch/vision/issues/7319 to learn more about the APIs that we suspect might involve future changes. You can silence this warning by calling torchvision.disable_beta_transforms_warning().\n",
      "  warnings.warn(_BETA_TRANSFORMS_WARNING)\n",
      "/home/jakwisn/.pyenv/versions/3.11.4/lib/python3.11/site-packages/torchvision/transforms/v2/__init__.py:54: UserWarning: The torchvision.datapoints and torchvision.transforms.v2 namespaces are still Beta. While we do not expect major breaking changes, some APIs may still change according to user feedback. Please submit any feedback you may have in this issue: https://github.com/pytorch/vision/issues/6753, and you can also check out https://github.com/pytorch/vision/issues/7319 to learn more about the APIs that we suspect might involve future changes. You can silence this warning by calling torchvision.disable_beta_transforms_warning().\n",
      "  warnings.warn(_BETA_TRANSFORMS_WARNING)\n"
     ]
    }
   ],
   "source": [
    "import os\n",
    "from PIL import Image\n",
    "import numpy as np\n",
    "import torch\n",
    "from torch.utils.data import Dataset, DataLoader, SubsetRandomSampler\n",
    "from torchvision import transforms\n",
    "from torchvision.transforms import v2\n",
    "from torchvision.transforms.functional import adjust_contrast\n",
    "import matplotlib.pyplot as plt\n",
    "import random\n",
    "import glob\n",
    "from dataset import *\n",
    "\n",
    "from einops import rearrange, repeat"
   ]
  },
  {
   "cell_type": "code",
   "execution_count": 3,
   "id": "0789de3d-683a-49bb-9c7a-61456c4a7d94",
   "metadata": {
    "tags": []
   },
   "outputs": [],
   "source": [
    "SEED = 42\n",
    "\n",
    "def set_seed(seed=SEED):\n",
    "    random.seed(seed)\n",
    "    np.random.seed(seed)\n",
    "    torch.manual_seed(seed)\n",
    "    torch.cuda.manual_seed(seed)\n",
    "    torch.cuda.manual_seed_all(seed)\n",
    "    torch.backends.cudnn.deterministic = True\n",
    "    \n",
    "set_seed()"
   ]
  },
  {
   "cell_type": "markdown",
   "id": "7cfcb255-238f-430d-98cd-0a6a4a298cfb",
   "metadata": {},
   "source": [
    "# Training the model"
   ]
  },
  {
   "cell_type": "code",
   "execution_count": 117,
   "id": "178eff55-9e52-4a6f-a795-ed07233619a6",
   "metadata": {},
   "outputs": [],
   "source": [
    "input_images = glob.glob('data/training/INPUT_IMAGES/*P1.5.JPG')\n",
    "\n",
    "# hand selected\n",
    "val_images = [] \n",
    "for x in [0,1,3,5,7,9]:\n",
    "    val_images.append(glob.glob('data/validation/GT_IMAGES/*.jpg')[x])\n",
    "\n",
    "val_images = glob.glob('data/validation/GT_IMAGES/*.jpg')"
   ]
  },
  {
   "cell_type": "code",
   "execution_count": 118,
   "id": "0043a532-9887-4864-8410-944be6cffd2c",
   "metadata": {
    "tags": []
   },
   "outputs": [],
   "source": [
    "from ddpm.ddpm import *\n",
    "from ddpm.ddpm_train import *\n",
    "\n",
    "BATCH_SIZE=6\n",
    "RESIZE_SIZE=16\n",
    "IM_SIZE=16\n",
    "\n",
    "\n",
    "transform = transforms.Compose([\n",
    "    transforms.ToTensor(),                # from [0,255] to range [0.0,1.0]\n",
    "    v2.Resize(size=(RESIZE_SIZE, RESIZE_SIZE)),\n",
    "    #v2.RandomCrop(size=(IM_SIZE, IM_SIZE))\n",
    "    ])"
   ]
  },
  {
   "cell_type": "code",
   "execution_count": 119,
   "id": "1ba6532f-d74b-48da-853a-52b5596b10f7",
   "metadata": {
    "tags": []
   },
   "outputs": [],
   "source": [
    "train_dataset = CorrectionImageDataset(input_images, train=True, transform=transform)\n",
    "val_dataset = CorrectionImageDataset(val_images, train=False, transform=transform)"
   ]
  },
  {
   "cell_type": "code",
   "execution_count": 122,
   "id": "b8991521-65a6-4880-8b2e-fcd55fffb350",
   "metadata": {},
   "outputs": [
    {
     "data": {
      "text/plain": [
       "<matplotlib.image.AxesImage at 0x7f1361aafcd0>"
      ]
     },
     "execution_count": 122,
     "metadata": {},
     "output_type": "execute_result"
    },
    {
     "data": {
      "image/png": "[encoded data removed]",
      "text/plain": [
       "<Figure size 640x480 with 3 Axes>"
      ]
     },
     "metadata": {},
     "output_type": "display_data"
    }
   ],
   "source": [
    "im, mask = val_dataset[1]\n",
    "\n",
    "fig, axs = plt.subplots(1,3)\n",
    "axs[0].imshow(hist_fix(im).permute((1,2,0)))\n",
    "axs[1].imshow(mask) # Unknown region to generate\n",
    "axs[2].imshow(~mask) # Known region"
   ]
  },
  {
   "cell_type": "code",
   "execution_count": 105,
   "id": "38b12549-5c6d-4af5-acc0-f46ba3c2fff7",
   "metadata": {
    "tags": []
   },
   "outputs": [],
   "source": [
    "def prepare_loaders():\n",
    "        \n",
    "    device = torch.device('cuda' if torch.cuda.is_available() else None)  \n",
    "    print(f\"Model will run on {device}\")\n",
    "    \n",
    "    dataloader = DataLoader(train_dataset,\n",
    "                            batch_size=BATCH_SIZE,\n",
    "                            shuffle=True,\n",
    "                            num_workers=6, \n",
    "                            #persistent_workers=True,\n",
    "                            pin_memory=True,\n",
    "                           )\n",
    "    \n",
    "    valdataloader = DataLoader(val_dataset,\n",
    "                               batch_size=BATCH_SIZE,\n",
    "                               shuffle=False,\n",
    "                               #persistent_workers=True,\n",
    "                               num_workers=6,\n",
    "                               pin_memory=True)\n",
    "\n",
    "    return dataloader, valdataloader "
   ]
  },
  {
   "cell_type": "code",
   "execution_count": 106,
   "id": "f2dc8c44-723b-4511-bfe5-18808b681bd6",
   "metadata": {},
   "outputs": [
    {
     "name": "stdout",
     "output_type": "stream",
     "text": [
      "Model will run on cuda\n"
     ]
    }
   ],
   "source": [
    "dataloader, valdataloader  = prepare_loaders()"
   ]
  },
  {
   "cell_type": "code",
   "execution_count": 107,
   "id": "fc78f290-7753-4a90-8733-8ebc00a6a1e6",
   "metadata": {},
   "outputs": [
    {
     "name": "stdout",
     "output_type": "stream",
     "text": [
      "Model will run on cuda\n"
     ]
    }
   ],
   "source": [
    "device = torch.device('cuda' if torch.cuda.is_available() else None)  \n",
    "print(f\"Model will run on {device}\")"
   ]
  },
  {
   "cell_type": "code",
   "execution_count": 108,
   "id": "c0e11284-9e80-4e0a-81ee-7e8014de9b5f",
   "metadata": {},
   "outputs": [],
   "source": [
    "import warnings\n",
    "warnings.filterwarnings('ignore')"
   ]
  },
  {
   "cell_type": "code",
   "execution_count": 127,
   "id": "0729fbc6-1327-4a15-9356-6c4489df20a6",
   "metadata": {},
   "outputs": [
    {
     "name": "stderr",
     "output_type": "stream",
     "text": [
      "09:29:11 - INFO: Starting epoch 1:\n",
      "  2%|█▏                                                     | 13/590 [00:12<10:03,  1.05s/it, loss_func=0.0141]Exception in thread Thread-56 (_pin_memory_loop):\n",
      "Traceback (most recent call last):\n",
      "  File \"/home/jakwisn/.pyenv/versions/3.11.4/lib/python3.11/threading.py\", line 1038, in _bootstrap_inner\n",
      "    self.run()\n",
      "  File \"/home/jakwisn/.pyenv/versions/3.11.4/lib/python3.11/threading.py\", line 975, in run\n",
      "    self._target(*self._args, **self._kwargs)\n",
      "  File \"/home/jakwisn/.pyenv/versions/3.11.4/lib/python3.11/site-packages/torch/utils/data/_utils/pin_memory.py\", line 51, in _pin_memory_loop\n",
      "    do_one_step()\n",
      "  File \"/home/jakwisn/.pyenv/versions/3.11.4/lib/python3.11/site-packages/torch/utils/data/_utils/pin_memory.py\", line 28, in do_one_step\n",
      "    r = in_queue.get(timeout=MP_STATUS_CHECK_INTERVAL)\n",
      "        ^^^^^^^^^^^^^^^^^^^^^^^^^^^^^^^^^^^^^^^^^^^^^^\n",
      "  File \"/home/jakwisn/.pyenv/versions/3.11.4/lib/python3.11/multiprocessing/queues.py\", line 122, in get\n",
      "    return _ForkingPickler.loads(res)\n",
      "           ^^^^^^^^^^^^^^^^^^^^^^^^^^\n",
      "  File \"/home/jakwisn/.pyenv/versions/3.11.4/lib/python3.11/site-packages/torch/multiprocessing/reductions.py\", line 307, in rebuild_storage_fd\n",
      "    fd = df.detach()\n",
      "         ^^^^^^^^^^^\n",
      "  File \"/home/jakwisn/.pyenv/versions/3.11.4/lib/python3.11/multiprocessing/resource_sharer.py\", line 57, in detach\n",
      "    with _resource_sharer.get_connection(self._id) as conn:\n",
      "         ^^^^^^^^^^^^^^^^^^^^^^^^^^^^^^^^^^^^^^^^^\n",
      "  File \"/home/jakwisn/.pyenv/versions/3.11.4/lib/python3.11/multiprocessing/resource_sharer.py\", line 86, in get_connection\n",
      "    c = Client(address, authkey=process.current_process().authkey)\n",
      "        ^^^^^^^^^^^^^^^^^^^^^^^^^^^^^^^^^^^^^^^^^^^^^^^^^^^^^^^^^^\n",
      "  File \"/home/jakwisn/.pyenv/versions/3.11.4/lib/python3.11/multiprocessing/connection.py\", line 501, in Client\n",
      "    c = SocketClient(address)\n",
      "        ^^^^^^^^^^^^^^^^^^^^^\n",
      "  File \"/home/jakwisn/.pyenv/versions/3.11.4/lib/python3.11/multiprocessing/connection.py\", line 629, in SocketClient\n",
      "    s.connect(address)\n",
      "FileNotFoundError: [Errno 2] No such file or directory\n",
      "  2%|█▏                                                     | 13/590 [00:13<10:20,  1.08s/it, loss_func=0.0141]\n"
     ]
    },
    {
     "ename": "KeyboardInterrupt",
     "evalue": "",
     "output_type": "error",
     "traceback": [
      "\u001b[0;31m---------------------------------------------------------------------------\u001b[0m",
      "\u001b[0;31mKeyboardInterrupt\u001b[0m                         Traceback (most recent call last)",
      "Cell \u001b[0;32mIn[127], line 1\u001b[0m\n\u001b[0;32m----> 1\u001b[0m \u001b[43mtrain\u001b[49m\u001b[43m(\u001b[49m\u001b[43mdataloader\u001b[49m\u001b[43m,\u001b[49m\u001b[43m \u001b[49m\n\u001b[1;32m      2\u001b[0m \u001b[43m      \u001b[49m\u001b[43mvaldataloader\u001b[49m\u001b[43m,\u001b[49m\n\u001b[1;32m      3\u001b[0m \u001b[43m      \u001b[49m\u001b[43mdevice\u001b[49m\u001b[38;5;241;43m=\u001b[39;49m\u001b[43mdevice\u001b[49m\u001b[43m,\u001b[49m\u001b[43m \u001b[49m\n\u001b[1;32m      4\u001b[0m \u001b[43m      \u001b[49m\u001b[43mT\u001b[49m\u001b[38;5;241;43m=\u001b[39;49m\u001b[38;5;241;43m500\u001b[39;49m\u001b[43m,\u001b[49m\u001b[43m \u001b[49m\n\u001b[1;32m      5\u001b[0m \u001b[43m      \u001b[49m\u001b[43mimg_size\u001b[49m\u001b[38;5;241;43m=\u001b[39;49m\u001b[43mIM_SIZE\u001b[49m\u001b[43m,\u001b[49m\u001b[43m \u001b[49m\n\u001b[1;32m      6\u001b[0m \u001b[43m      \u001b[49m\u001b[43mchannels\u001b[49m\u001b[38;5;241;43m=\u001b[39;49m\u001b[38;5;241;43m64\u001b[39;49m\u001b[43m,\u001b[49m\u001b[43m \u001b[49m\n\u001b[1;32m      7\u001b[0m \u001b[43m      \u001b[49m\u001b[43mbatch_size\u001b[49m\u001b[38;5;241;43m=\u001b[39;49m\u001b[43mBATCH_SIZE\u001b[49m\u001b[43m,\u001b[49m\u001b[43m \u001b[49m\n\u001b[1;32m      8\u001b[0m \u001b[43m      \u001b[49m\u001b[43mpretrained\u001b[49m\u001b[38;5;241;43m=\u001b[39;49m\u001b[38;5;28;43;01mTrue\u001b[39;49;00m\u001b[43m,\u001b[49m\u001b[43m \u001b[49m\n\u001b[1;32m      9\u001b[0m \u001b[43m      \u001b[49m\u001b[43mmetric\u001b[49m\u001b[38;5;241;43m=\u001b[39;49m\u001b[38;5;124;43m'\u001b[39;49m\u001b[38;5;124;43mMSE\u001b[39;49m\u001b[38;5;124;43m'\u001b[39;49m\u001b[43m,\u001b[49m\n\u001b[1;32m     10\u001b[0m \u001b[43m      \u001b[49m\u001b[43mexperiment_name\u001b[49m\u001b[38;5;241;43m=\u001b[39;49m\u001b[38;5;124;43m'\u001b[39;49m\u001b[38;5;124;43mpretrained_lpips\u001b[39;49m\u001b[38;5;124;43m'\u001b[39;49m\u001b[43m,\u001b[49m\u001b[43m \u001b[49m\n\u001b[1;32m     11\u001b[0m \u001b[43m      \u001b[49m\u001b[43mlr\u001b[49m\u001b[38;5;241;43m=\u001b[39;49m\u001b[38;5;241;43m0.0001\u001b[39;49m\u001b[43m,\u001b[49m\n\u001b[1;32m     12\u001b[0m \u001b[43m      \u001b[49m\u001b[43m)\u001b[49m\n",
      "File \u001b[0;32m/mnt/c/Users/jakwi/github/DTU-Advanced-Deep-Learning-In-Computer-Vision/ddpm/ddpm_train.py:138\u001b[0m, in \u001b[0;36mtrain\u001b[0;34m(dataloader, valdataloader, device, T, img_size, input_channels, channels, time_dim, batch_size, lr, num_epochs, experiment_name, show, pretrained, metric)\u001b[0m\n\u001b[1;32m    135\u001b[0m loss\u001b[38;5;241m.\u001b[39mbackward()\n\u001b[1;32m    136\u001b[0m optimizer\u001b[38;5;241m.\u001b[39mstep()\n\u001b[0;32m--> 138\u001b[0m pbar\u001b[38;5;241m.\u001b[39mset_postfix(loss_func\u001b[38;5;241m=\u001b[39m\u001b[43mloss\u001b[49m\u001b[38;5;241;43m.\u001b[39;49m\u001b[43mitem\u001b[49m\u001b[43m(\u001b[49m\u001b[43m)\u001b[49m)\n\u001b[1;32m    139\u001b[0m logger\u001b[38;5;241m.\u001b[39madd_scalar(metric, loss\u001b[38;5;241m.\u001b[39mitem(), global_step\u001b[38;5;241m=\u001b[39mepoch \u001b[38;5;241m*\u001b[39m l \u001b[38;5;241m+\u001b[39m i)\n\u001b[1;32m    141\u001b[0m \u001b[38;5;28;01mif\u001b[39;00m i \u001b[38;5;241m>\u001b[39m\u001b[38;5;241m=\u001b[39m MAX_STEPS:\n",
      "\u001b[0;31mKeyboardInterrupt\u001b[0m: "
     ]
    }
   ],
   "source": [
    "train(dataloader, \n",
    "      valdataloader,\n",
    "      device=device, \n",
    "      T=500, \n",
    "      img_size=IM_SIZE, \n",
    "      channels=64, \n",
    "      batch_size=BATCH_SIZE, \n",
    "      pretrained=True, \n",
    "      metric='MSE',\n",
    "      experiment_name='pretrained_lpips', \n",
    "      lr=0.0001,\n",
    "      )"
   ]
  },
  {
   "cell_type": "code",
   "execution_count": 110,
   "id": "481c0dc1-2419-4843-a5e2-4711117e1a87",
   "metadata": {},
   "outputs": [
    {
     "data": {
      "text/plain": [
       "<All keys matched successfully>"
      ]
     },
     "execution_count": 110,
     "metadata": {},
     "output_type": "execute_result"
    }
   ],
   "source": [
    "model = UNet(img_size=IM_SIZE, c_in=3, c_out=3, \n",
    "             time_dim=256,channels=64, device=device).to(device)\n",
    "diffusion = Diffusion(img_size=IM_SIZE, T=500, beta_start=1e-4, beta_end=0.02, device=device)\n",
    "ckpt = torch.load(\"models/pretrained_mse2/weights-30.pt\")\n",
    "model.load_state_dict(ckpt)"
   ]
  },
  {
   "cell_type": "code",
   "execution_count": 111,
   "id": "4083bfc9-7e94-4667-a7b0-0b7bfbd1756b",
   "metadata": {},
   "outputs": [],
   "source": [
    "def hist_fix(im):\n",
    "    new_im = im.clone()\n",
    "    \n",
    "    new_im[0] = (im[0] - torch.min(im[0])) / (torch.max(im[0])-torch.min(im[0]))\n",
    "    new_im[1] = (im[1] - torch.min(im[1])) / (torch.max(im[1])-torch.min(im[1]))\n",
    "    new_im[2] = (im[2] - torch.min(im[2])) / (torch.max(im[2])-torch.min(im[2]))\n",
    "\n",
    "    return new_im"
   ]
  },
  {
   "cell_type": "code",
   "execution_count": 123,
   "id": "d430e017-d4a2-499d-a2ce-460c7a4b1ee7",
   "metadata": {},
   "outputs": [],
   "source": [
    "img_name = test_images[1]\n",
    "image = Image.open(img_name)\n",
    "\n",
    "img = transform(image)\n",
    "\n",
    "# Get mask\n",
    "bright_transform = A.RandomBrightnessContrast(p=1, brightness_limit=(0.2,0.2), contrast_limit=(0.1,0.1)) # Contrast limit has to be set otherwise it fluctuates\n",
    "bright_image = torch.from_numpy(bright_transform(image=img.numpy())['image'])\n",
    "mask = torch.mean(bright_image,0) >= 255 / 255\n",
    "\n",
    "reconstructed_image = hist_fix(bright_image)"
   ]
  },
  {
   "cell_type": "code",
   "execution_count": 124,
   "id": "05d23d1e-b902-4129-b119-25a9b39bb0c3",
   "metadata": {},
   "outputs": [
    {
     "data": {
      "text/plain": [
       "<matplotlib.image.AxesImage at 0x7f1361869a50>"
      ]
     },
     "execution_count": 124,
     "metadata": {},
     "output_type": "execute_result"
    },
    {
     "data": {
      "image/png": "[encoded data removed]",
      "text/plain": [
       "<Figure size 640x480 with 1 Axes>"
      ]
     },
     "metadata": {},
     "output_type": "display_data"
    }
   ],
   "source": [
    "plt.imshow(bright_image.permute((1,2,0)))"
   ]
  },
  {
   "cell_type": "code",
   "execution_count": 125,
   "id": "aa9a6e0c-6513-4952-9c7c-468b526a1eba",
   "metadata": {},
   "outputs": [
    {
     "name": "stderr",
     "output_type": "stream",
     "text": [
      "09:25:35 - INFO: Sampling 1 new images....\n",
      "100%|████████████████████████████████████████████████████████████████████████| 499/499 [00:35<00:00, 14.20it/s]\n"
     ]
    }
   ],
   "source": [
    "sampled_image = diffusion.p_sample_loop(reconstructed_image.unsqueeze(0).to(device), mask.unsqueeze(0).to(device), model,  batch_size=1)"
   ]
  },
  {
   "cell_type": "code",
   "execution_count": 126,
   "id": "fa30caf2-28cf-4c12-9995-431d7a84256d",
   "metadata": {},
   "outputs": [
    {
     "name": "stderr",
     "output_type": "stream",
     "text": [
      "09:26:11 - WARNING: Clipping input data to the valid range for imshow with RGB data ([0..1] for floats or [0..255] for integers).\n"
     ]
    },
    {
     "data": {
      "text/plain": [
       "<matplotlib.image.AxesImage at 0x7f136185bb10>"
      ]
     },
     "execution_count": 126,
     "metadata": {},
     "output_type": "execute_result"
    },
    {
     "data": {
      "image/png": "[encoded data removed]",
      "text/plain": [
       "<Figure size 640x480 with 5 Axes>"
      ]
     },
     "metadata": {},
     "output_type": "display_data"
    }
   ],
   "source": [
    "fig, axs = plt.subplots(1,5)\n",
    "axs[0].imshow(img.permute((1,2,0)))\n",
    "axs[1].imshow(bright_image.permute((1,2,0)))\n",
    "axs[2].imshow(mask)\n",
    "axs[3].imshow(reconstructed_image.permute((1,2,0)))\n",
    "axs[4].imshow(sampled_image.squeeze(0).cpu().permute((1,2,0))) # Known region"
   ]
  },
  {
   "cell_type": "code",
   "execution_count": 99,
   "id": "6865e05d-4ebf-41b8-be1b-6fd614601f4f",
   "metadata": {},
   "outputs": [
    {
     "data": {
      "text/plain": [
       "tensor([[[[166.8000, 162.0000, 199.2000, 171.6000, 187.2000, 184.8000, 189.6000,\n",
       "           165.6000, 190.8000, 165.6000, 188.4000, 190.8000, 180.0000, 158.4000,\n",
       "           159.6000, 162.0000],\n",
       "          [159.6000, 194.4000, 176.4000, 150.0000, 229.2000, 152.4000, 170.4000,\n",
       "           194.4000, 196.8000, 171.6000, 159.6000, 188.4000, 164.4000, 194.4000,\n",
       "           166.8000, 162.0000],\n",
       "          [267.6000, 230.4000, 234.0000, 163.2000, 224.4000, 205.2000, 163.2000,\n",
       "           154.8000, 195.6000, 184.8000, 160.8000, 176.4000, 212.4000, 177.6000,\n",
       "           182.4000, 160.8000],\n",
       "          [266.4000, 285.6000, 302.4000, 276.0000, 240.0000, 218.4000, 216.0000,\n",
       "           229.2000, 159.6000, 163.2000, 176.4000, 158.4000, 156.0000, 163.2000,\n",
       "           184.8000, 187.2000],\n",
       "          [255.6000, 289.2000, 286.8000, 297.6000, 306.0000, 306.0000, 214.8000,\n",
       "           216.0000, 208.8000, 219.6000, 280.8000, 159.6000, 218.4000, 164.4000,\n",
       "           156.0000, 194.4000],\n",
       "          [301.2000, 295.2000, 303.6000, 294.0000, 306.0000, 304.8000, 271.2000,\n",
       "           256.8000, 255.6000, 259.2000, 237.6000, 240.0000, 171.6000, 201.6000,\n",
       "           216.0000, 194.4000],\n",
       "          [272.4000, 295.2000, 288.0000, 292.8000, 298.8000, 303.6000, 301.2000,\n",
       "           304.8000, 301.2000, 298.8000, 277.2000, 241.2000, 216.0000, 277.2000,\n",
       "           214.8000, 283.2000],\n",
       "          [294.0000, 303.6000, 290.4000, 303.6000, 301.2000, 294.0000, 288.0000,\n",
       "           288.0000, 304.8000, 291.6000, 306.0000, 289.2000, 231.6000, 226.8000,\n",
       "           255.6000, 276.0000],\n",
       "          [288.0000, 300.0000, 295.2000, 296.4000, 301.2000, 302.4000, 265.2000,\n",
       "           298.8000, 283.2000, 304.8000, 306.0000, 306.0000, 256.8000, 300.0000,\n",
       "           246.0000, 254.4000],\n",
       "          [238.8000, 260.4000, 306.0000, 304.8000, 304.8000, 306.0000, 302.4000,\n",
       "           306.0000, 303.6000, 219.6000, 303.6000, 294.0000, 306.0000, 284.4000,\n",
       "           306.0000, 298.8000],\n",
       "          [195.6000, 163.2000, 235.2000, 296.4000, 306.0000, 306.0000, 306.0000,\n",
       "           306.0000, 306.0000, 295.2000, 288.0000, 296.4000, 290.4000, 283.2000,\n",
       "           207.6000, 199.2000],\n",
       "          [192.0000, 219.6000, 212.4000, 219.6000, 212.4000, 262.8000, 244.8000,\n",
       "           244.8000, 253.2000, 298.8000, 300.0000, 291.6000, 303.6000, 306.0000,\n",
       "           303.6000, 306.0000],\n",
       "          [198.0000, 160.8000, 177.6000, 192.0000, 210.0000, 206.4000, 200.4000,\n",
       "           262.8000, 188.4000, 156.0000, 229.2000, 240.0000, 283.2000, 244.8000,\n",
       "           211.2000, 249.6000],\n",
       "          [168.0000, 157.2000, 154.8000, 183.6000, 195.6000, 156.0000, 244.8000,\n",
       "           172.8000, 194.4000, 217.2000, 180.0000, 176.4000, 180.0000, 198.0000,\n",
       "           193.2000, 172.8000],\n",
       "          [175.2000, 210.0000, 210.0000, 176.4000, 207.6000, 210.0000, 226.8000,\n",
       "           200.4000, 186.0000, 174.0000, 195.6000, 163.2000, 201.6000, 194.4000,\n",
       "           201.6000, 184.8000],\n",
       "          [158.4000, 154.8000, 163.2000, 205.2000, 200.4000, 171.6000, 200.4000,\n",
       "           164.4000, 218.4000, 199.2000, 168.0000, 174.0000, 211.2000, 190.8000,\n",
       "           181.2000, 164.4000]],\n",
       "\n",
       "         [[237.6000, 242.4000, 200.4000, 180.0000, 187.2000, 177.6000, 186.0000,\n",
       "           157.2000, 194.4000, 163.2000, 192.0000, 187.2000, 184.8000, 241.2000,\n",
       "           234.0000, 234.0000],\n",
       "          [244.8000, 246.0000, 186.0000, 158.4000, 226.8000, 150.0000, 168.0000,\n",
       "           187.2000, 196.8000, 162.0000, 162.0000, 183.6000, 160.8000, 182.4000,\n",
       "           248.4000, 243.6000],\n",
       "          [271.2000, 231.6000, 231.6000, 165.6000, 226.8000, 211.2000, 164.4000,\n",
       "           151.2000, 189.6000, 187.2000, 153.6000, 171.6000, 202.8000, 166.8000,\n",
       "           180.0000, 250.8000],\n",
       "          [274.8000, 285.6000, 302.4000, 260.4000, 236.4000, 238.8000, 214.8000,\n",
       "           237.6000, 166.8000, 163.2000, 175.2000, 163.2000, 156.0000, 158.4000,\n",
       "           212.4000, 242.4000],\n",
       "          [254.4000, 290.4000, 285.6000, 297.6000, 298.8000, 306.0000, 219.6000,\n",
       "           204.0000, 223.2000, 228.0000, 279.6000, 156.0000, 222.0000, 158.4000,\n",
       "           154.8000, 273.6000],\n",
       "          [306.0000, 303.6000, 306.0000, 302.4000, 304.8000, 301.2000, 276.0000,\n",
       "           249.6000, 253.2000, 249.6000, 243.6000, 243.6000, 182.4000, 198.0000,\n",
       "           214.8000, 192.0000],\n",
       "          [273.6000, 297.6000, 296.4000, 295.2000, 306.0000, 306.0000, 306.0000,\n",
       "           306.0000, 306.0000, 306.0000, 276.0000, 234.0000, 217.2000, 271.2000,\n",
       "           216.0000, 266.4000],\n",
       "          [298.8000, 303.6000, 284.4000, 300.0000, 294.0000, 304.8000, 301.2000,\n",
       "           301.2000, 304.8000, 298.8000, 306.0000, 292.8000, 219.6000, 220.8000,\n",
       "           244.8000, 264.0000],\n",
       "          [297.6000, 306.0000, 301.2000, 296.4000, 302.4000, 303.6000, 265.2000,\n",
       "           303.6000, 294.0000, 306.0000, 306.0000, 306.0000, 264.0000, 306.0000,\n",
       "           235.2000, 241.2000],\n",
       "          [235.2000, 253.2000, 306.0000, 306.0000, 306.0000, 306.0000, 304.8000,\n",
       "           306.0000, 306.0000, 219.6000, 306.0000, 289.2000, 306.0000, 273.6000,\n",
       "           306.0000, 300.0000],\n",
       "          [193.2000, 165.6000, 231.6000, 284.4000, 306.0000, 303.6000, 298.8000,\n",
       "           306.0000, 306.0000, 296.4000, 294.0000, 298.8000, 296.4000, 278.4000,\n",
       "           201.6000, 194.4000],\n",
       "          [178.8000, 211.2000, 204.0000, 211.2000, 205.2000, 259.2000, 250.8000,\n",
       "           244.8000, 255.6000, 294.0000, 303.6000, 285.6000, 304.8000, 306.0000,\n",
       "           296.4000, 306.0000],\n",
       "          [189.6000, 151.2000, 176.4000, 188.4000, 199.2000, 194.4000, 205.2000,\n",
       "           260.4000, 182.4000, 151.2000, 223.2000, 230.4000, 261.6000, 240.0000,\n",
       "           208.8000, 238.8000],\n",
       "          [153.6000, 160.8000, 150.0000, 176.4000, 186.0000, 154.8000, 244.8000,\n",
       "           163.2000, 182.4000, 210.0000, 169.2000, 172.8000, 170.4000, 195.6000,\n",
       "           192.0000, 164.4000],\n",
       "          [189.6000, 226.8000, 224.4000, 196.8000, 223.2000, 218.4000, 237.6000,\n",
       "           207.6000, 186.0000, 183.6000, 196.8000, 181.2000, 204.0000, 201.6000,\n",
       "           213.6000, 194.4000],\n",
       "          [184.8000, 187.2000, 190.8000, 214.8000, 213.6000, 183.6000, 204.0000,\n",
       "           181.2000, 216.0000, 206.4000, 195.6000, 190.8000, 217.2000, 204.0000,\n",
       "           198.0000, 189.6000]],\n",
       "\n",
       "         [[296.4000, 302.4000, 205.2000, 169.2000, 196.8000, 159.6000, 159.6000,\n",
       "           151.2000, 164.4000, 158.4000, 170.4000, 169.2000, 163.2000, 306.0000,\n",
       "           292.8000, 294.0000],\n",
       "          [306.0000, 264.0000, 188.4000, 170.4000, 226.8000, 153.6000, 162.0000,\n",
       "           163.2000, 184.8000, 160.8000, 152.4000, 169.2000, 154.8000, 162.0000,\n",
       "           304.8000, 306.0000],\n",
       "          [271.2000, 220.8000, 229.2000, 163.2000, 174.0000, 169.2000, 156.0000,\n",
       "           153.6000, 174.0000, 168.0000, 156.0000, 164.4000, 172.8000, 154.8000,\n",
       "           160.8000, 306.0000],\n",
       "          [277.2000, 282.0000, 284.4000, 238.8000, 238.8000, 217.2000, 194.4000,\n",
       "           194.4000, 151.2000, 151.2000, 159.6000, 151.2000, 157.2000, 156.0000,\n",
       "           242.4000, 291.6000],\n",
       "          [261.6000, 282.0000, 284.4000, 292.8000, 296.4000, 274.8000, 200.4000,\n",
       "           188.4000, 188.4000, 187.2000, 282.0000, 154.8000, 175.2000, 153.6000,\n",
       "           157.2000, 303.6000],\n",
       "          [303.6000, 303.6000, 302.4000, 301.2000, 302.4000, 296.4000, 268.8000,\n",
       "           225.6000, 232.8000, 236.4000, 199.2000, 199.2000, 159.6000, 193.2000,\n",
       "           190.8000, 182.4000],\n",
       "          [276.0000, 300.0000, 291.6000, 292.8000, 306.0000, 306.0000, 306.0000,\n",
       "           306.0000, 306.0000, 306.0000, 286.8000, 219.6000, 212.4000, 274.8000,\n",
       "           187.2000, 262.8000],\n",
       "          [294.0000, 304.8000, 283.2000, 291.6000, 290.4000, 306.0000, 298.8000,\n",
       "           306.0000, 304.8000, 294.0000, 306.0000, 291.6000, 208.8000, 214.8000,\n",
       "           238.8000, 260.4000],\n",
       "          [286.8000, 306.0000, 294.0000, 290.4000, 295.2000, 300.0000, 266.4000,\n",
       "           302.4000, 291.6000, 306.0000, 306.0000, 304.8000, 255.6000, 298.8000,\n",
       "           231.6000, 224.4000],\n",
       "          [213.6000, 256.8000, 304.8000, 297.6000, 306.0000, 303.6000, 303.6000,\n",
       "           304.8000, 306.0000, 217.2000, 306.0000, 277.2000, 306.0000, 268.8000,\n",
       "           306.0000, 304.8000],\n",
       "          [177.6000, 160.8000, 216.0000, 265.2000, 294.0000, 297.6000, 297.6000,\n",
       "           304.8000, 306.0000, 290.4000, 291.6000, 290.4000, 292.8000, 265.2000,\n",
       "           183.6000, 176.4000],\n",
       "          [171.6000, 198.0000, 189.6000, 204.0000, 201.6000, 255.6000, 254.4000,\n",
       "           243.6000, 266.4000, 286.8000, 294.0000, 284.4000, 302.4000, 303.6000,\n",
       "           283.2000, 288.0000],\n",
       "          [175.2000, 153.6000, 165.6000, 171.6000, 181.2000, 172.8000, 186.0000,\n",
       "           248.4000, 166.8000, 153.6000, 207.6000, 222.0000, 241.2000, 222.0000,\n",
       "           194.4000, 223.2000],\n",
       "          [153.6000, 156.0000, 156.0000, 168.0000, 176.4000, 154.8000, 248.4000,\n",
       "           156.0000, 180.0000, 199.2000, 168.0000, 159.6000, 170.4000, 183.6000,\n",
       "           189.6000, 158.4000],\n",
       "          [211.2000, 231.6000, 225.6000, 193.2000, 223.2000, 220.8000, 241.2000,\n",
       "           204.0000, 189.6000, 175.2000, 192.0000, 198.0000, 204.0000, 194.4000,\n",
       "           214.8000, 210.0000],\n",
       "          [194.4000, 199.2000, 195.6000, 226.8000, 213.6000, 192.0000, 208.8000,\n",
       "           188.4000, 231.6000, 208.8000, 212.4000, 189.6000, 222.0000, 194.4000,\n",
       "           208.8000, 217.2000]]]], device='cuda:0')"
      ]
     },
     "execution_count": 99,
     "metadata": {},
     "output_type": "execute_result"
    }
   ],
   "source": [
    "sampled_image * 1.2"
   ]
  },
  {
   "cell_type": "code",
   "execution_count": null,
   "id": "0ff1bd2f-a045-4283-bbf3-542130901d2d",
   "metadata": {},
   "outputs": [],
   "source": [
    "sampled_images = diffusion.p_sample_loop(images, masks, model,  batch_size=images.shape[0])"
   ]
  },
  {
   "cell_type": "code",
   "execution_count": 13,
   "id": "fa95cfa6-2eaa-49ed-b209-a8f773b57de6",
   "metadata": {},
   "outputs": [
    {
     "name": "stderr",
     "output_type": "stream",
     "text": [
      "08:32:36 - INFO: Starting epoch 1:\n",
      " 14%|███████▋                                               | 82/590 [00:06<00:40, 12.69it/s, loss_func=0.0444]\n"
     ]
    },
    {
     "ename": "KeyboardInterrupt",
     "evalue": "",
     "output_type": "error",
     "traceback": [
      "\u001b[0;31m---------------------------------------------------------------------------\u001b[0m",
      "\u001b[0;31mKeyboardInterrupt\u001b[0m                         Traceback (most recent call last)",
      "Cell \u001b[0;32mIn[13], line 1\u001b[0m\n\u001b[0;32m----> 1\u001b[0m \u001b[43mtrain\u001b[49m\u001b[43m(\u001b[49m\u001b[43mdataloader\u001b[49m\u001b[43m,\u001b[49m\u001b[43m \u001b[49m\n\u001b[1;32m      2\u001b[0m \u001b[43m      \u001b[49m\u001b[43mvaldataloader\u001b[49m\u001b[43m,\u001b[49m\n\u001b[1;32m      3\u001b[0m \u001b[43m      \u001b[49m\u001b[43mdevice\u001b[49m\u001b[38;5;241;43m=\u001b[39;49m\u001b[43mdevice\u001b[49m\u001b[43m,\u001b[49m\u001b[43m \u001b[49m\n\u001b[1;32m      4\u001b[0m \u001b[43m      \u001b[49m\u001b[43mT\u001b[49m\u001b[38;5;241;43m=\u001b[39;49m\u001b[38;5;241;43m500\u001b[39;49m\u001b[43m,\u001b[49m\u001b[43m \u001b[49m\n\u001b[1;32m      5\u001b[0m \u001b[43m      \u001b[49m\u001b[43mimg_size\u001b[49m\u001b[38;5;241;43m=\u001b[39;49m\u001b[43mIM_SIZE\u001b[49m\u001b[43m,\u001b[49m\u001b[43m \u001b[49m\n\u001b[1;32m      6\u001b[0m \u001b[43m      \u001b[49m\u001b[43mchannels\u001b[49m\u001b[38;5;241;43m=\u001b[39;49m\u001b[38;5;241;43m64\u001b[39;49m\u001b[43m,\u001b[49m\u001b[43m \u001b[49m\n\u001b[1;32m      7\u001b[0m \u001b[43m      \u001b[49m\u001b[43mbatch_size\u001b[49m\u001b[38;5;241;43m=\u001b[39;49m\u001b[43mBATCH_SIZE\u001b[49m\u001b[43m,\u001b[49m\u001b[43m \u001b[49m\n\u001b[1;32m      8\u001b[0m \u001b[43m      \u001b[49m\u001b[43mpretrained\u001b[49m\u001b[38;5;241;43m=\u001b[39;49m\u001b[38;5;28;43;01mFalse\u001b[39;49;00m\u001b[43m,\u001b[49m\u001b[43m \u001b[49m\n\u001b[1;32m      9\u001b[0m \u001b[43m      \u001b[49m\u001b[43mmetric\u001b[49m\u001b[38;5;241;43m=\u001b[39;49m\u001b[38;5;124;43m'\u001b[39;49m\u001b[38;5;124;43mMSE\u001b[39;49m\u001b[38;5;124;43m'\u001b[39;49m\u001b[43m,\u001b[49m\n\u001b[1;32m     10\u001b[0m \u001b[43m      \u001b[49m\u001b[43mexperiment_name\u001b[49m\u001b[38;5;241;43m=\u001b[39;49m\u001b[38;5;124;43m'\u001b[39;49m\u001b[38;5;124;43mraw_mse2\u001b[39;49m\u001b[38;5;124;43m'\u001b[39;49m\u001b[43m,\u001b[49m\u001b[43m \u001b[49m\n\u001b[1;32m     11\u001b[0m \u001b[43m      \u001b[49m\u001b[43mlr\u001b[49m\u001b[38;5;241;43m=\u001b[39;49m\u001b[38;5;241;43m0.001\u001b[39;49m\u001b[43m,\u001b[49m\n\u001b[1;32m     12\u001b[0m \u001b[43m      \u001b[49m\u001b[43m)\u001b[49m\n",
      "File \u001b[0;32m/mnt/c/Users/jakwi/github/DTU-Advanced-Deep-Learning-In-Computer-Vision/ddpm/ddpm_train.py:136\u001b[0m, in \u001b[0;36mtrain\u001b[0;34m(dataloader, valdataloader, device, T, img_size, input_channels, channels, time_dim, batch_size, lr, num_epochs, experiment_name, show, pretrained, metric)\u001b[0m\n\u001b[1;32m    134\u001b[0m optimizer\u001b[38;5;241m.\u001b[39mzero_grad()\n\u001b[1;32m    135\u001b[0m loss\u001b[38;5;241m.\u001b[39mbackward()\n\u001b[0;32m--> 136\u001b[0m \u001b[43moptimizer\u001b[49m\u001b[38;5;241;43m.\u001b[39;49m\u001b[43mstep\u001b[49m\u001b[43m(\u001b[49m\u001b[43m)\u001b[49m\n\u001b[1;32m    138\u001b[0m pbar\u001b[38;5;241m.\u001b[39mset_postfix(loss_func\u001b[38;5;241m=\u001b[39mloss\u001b[38;5;241m.\u001b[39mitem())\n\u001b[1;32m    139\u001b[0m logger\u001b[38;5;241m.\u001b[39madd_scalar(metric, loss\u001b[38;5;241m.\u001b[39mitem(), global_step\u001b[38;5;241m=\u001b[39mepoch \u001b[38;5;241m*\u001b[39m l \u001b[38;5;241m+\u001b[39m i)\n",
      "File \u001b[0;32m~/.pyenv/versions/3.11.4/lib/python3.11/site-packages/torch/optim/optimizer.py:280\u001b[0m, in \u001b[0;36mOptimizer.profile_hook_step.<locals>.wrapper\u001b[0;34m(*args, **kwargs)\u001b[0m\n\u001b[1;32m    276\u001b[0m         \u001b[38;5;28;01melse\u001b[39;00m:\n\u001b[1;32m    277\u001b[0m             \u001b[38;5;28;01mraise\u001b[39;00m \u001b[38;5;167;01mRuntimeError\u001b[39;00m(\u001b[38;5;124mf\u001b[39m\u001b[38;5;124m\"\u001b[39m\u001b[38;5;132;01m{\u001b[39;00mfunc\u001b[38;5;132;01m}\u001b[39;00m\u001b[38;5;124m must return None or a tuple of (new_args, new_kwargs),\u001b[39m\u001b[38;5;124m\"\u001b[39m\n\u001b[1;32m    278\u001b[0m                                \u001b[38;5;124mf\u001b[39m\u001b[38;5;124m\"\u001b[39m\u001b[38;5;124mbut got \u001b[39m\u001b[38;5;132;01m{\u001b[39;00mresult\u001b[38;5;132;01m}\u001b[39;00m\u001b[38;5;124m.\u001b[39m\u001b[38;5;124m\"\u001b[39m)\n\u001b[0;32m--> 280\u001b[0m out \u001b[38;5;241m=\u001b[39m \u001b[43mfunc\u001b[49m\u001b[43m(\u001b[49m\u001b[38;5;241;43m*\u001b[39;49m\u001b[43margs\u001b[49m\u001b[43m,\u001b[49m\u001b[43m \u001b[49m\u001b[38;5;241;43m*\u001b[39;49m\u001b[38;5;241;43m*\u001b[39;49m\u001b[43mkwargs\u001b[49m\u001b[43m)\u001b[49m\n\u001b[1;32m    281\u001b[0m \u001b[38;5;28mself\u001b[39m\u001b[38;5;241m.\u001b[39m_optimizer_step_code()\n\u001b[1;32m    283\u001b[0m \u001b[38;5;66;03m# call optimizer step post hooks\u001b[39;00m\n",
      "File \u001b[0;32m~/.pyenv/versions/3.11.4/lib/python3.11/site-packages/torch/optim/optimizer.py:33\u001b[0m, in \u001b[0;36m_use_grad_for_differentiable.<locals>._use_grad\u001b[0;34m(self, *args, **kwargs)\u001b[0m\n\u001b[1;32m     31\u001b[0m \u001b[38;5;28;01mtry\u001b[39;00m:\n\u001b[1;32m     32\u001b[0m     torch\u001b[38;5;241m.\u001b[39mset_grad_enabled(\u001b[38;5;28mself\u001b[39m\u001b[38;5;241m.\u001b[39mdefaults[\u001b[38;5;124m'\u001b[39m\u001b[38;5;124mdifferentiable\u001b[39m\u001b[38;5;124m'\u001b[39m])\n\u001b[0;32m---> 33\u001b[0m     ret \u001b[38;5;241m=\u001b[39m \u001b[43mfunc\u001b[49m\u001b[43m(\u001b[49m\u001b[38;5;28;43mself\u001b[39;49m\u001b[43m,\u001b[49m\u001b[43m \u001b[49m\u001b[38;5;241;43m*\u001b[39;49m\u001b[43margs\u001b[49m\u001b[43m,\u001b[49m\u001b[43m \u001b[49m\u001b[38;5;241;43m*\u001b[39;49m\u001b[38;5;241;43m*\u001b[39;49m\u001b[43mkwargs\u001b[49m\u001b[43m)\u001b[49m\n\u001b[1;32m     34\u001b[0m \u001b[38;5;28;01mfinally\u001b[39;00m:\n\u001b[1;32m     35\u001b[0m     torch\u001b[38;5;241m.\u001b[39mset_grad_enabled(prev_grad)\n",
      "File \u001b[0;32m~/.pyenv/versions/3.11.4/lib/python3.11/site-packages/torch/optim/adamw.py:171\u001b[0m, in \u001b[0;36mAdamW.step\u001b[0;34m(self, closure)\u001b[0m\n\u001b[1;32m    158\u001b[0m     beta1, beta2 \u001b[38;5;241m=\u001b[39m group[\u001b[38;5;124m\"\u001b[39m\u001b[38;5;124mbetas\u001b[39m\u001b[38;5;124m\"\u001b[39m]\n\u001b[1;32m    160\u001b[0m     \u001b[38;5;28mself\u001b[39m\u001b[38;5;241m.\u001b[39m_init_group(\n\u001b[1;32m    161\u001b[0m         group,\n\u001b[1;32m    162\u001b[0m         params_with_grad,\n\u001b[0;32m   (...)\u001b[0m\n\u001b[1;32m    168\u001b[0m         state_steps,\n\u001b[1;32m    169\u001b[0m     )\n\u001b[0;32m--> 171\u001b[0m     \u001b[43madamw\u001b[49m\u001b[43m(\u001b[49m\n\u001b[1;32m    172\u001b[0m \u001b[43m        \u001b[49m\u001b[43mparams_with_grad\u001b[49m\u001b[43m,\u001b[49m\n\u001b[1;32m    173\u001b[0m \u001b[43m        \u001b[49m\u001b[43mgrads\u001b[49m\u001b[43m,\u001b[49m\n\u001b[1;32m    174\u001b[0m \u001b[43m        \u001b[49m\u001b[43mexp_avgs\u001b[49m\u001b[43m,\u001b[49m\n\u001b[1;32m    175\u001b[0m \u001b[43m        \u001b[49m\u001b[43mexp_avg_sqs\u001b[49m\u001b[43m,\u001b[49m\n\u001b[1;32m    176\u001b[0m \u001b[43m        \u001b[49m\u001b[43mmax_exp_avg_sqs\u001b[49m\u001b[43m,\u001b[49m\n\u001b[1;32m    177\u001b[0m \u001b[43m        \u001b[49m\u001b[43mstate_steps\u001b[49m\u001b[43m,\u001b[49m\n\u001b[1;32m    178\u001b[0m \u001b[43m        \u001b[49m\u001b[43mamsgrad\u001b[49m\u001b[38;5;241;43m=\u001b[39;49m\u001b[43mamsgrad\u001b[49m\u001b[43m,\u001b[49m\n\u001b[1;32m    179\u001b[0m \u001b[43m        \u001b[49m\u001b[43mbeta1\u001b[49m\u001b[38;5;241;43m=\u001b[39;49m\u001b[43mbeta1\u001b[49m\u001b[43m,\u001b[49m\n\u001b[1;32m    180\u001b[0m \u001b[43m        \u001b[49m\u001b[43mbeta2\u001b[49m\u001b[38;5;241;43m=\u001b[39;49m\u001b[43mbeta2\u001b[49m\u001b[43m,\u001b[49m\n\u001b[1;32m    181\u001b[0m \u001b[43m        \u001b[49m\u001b[43mlr\u001b[49m\u001b[38;5;241;43m=\u001b[39;49m\u001b[43mgroup\u001b[49m\u001b[43m[\u001b[49m\u001b[38;5;124;43m\"\u001b[39;49m\u001b[38;5;124;43mlr\u001b[39;49m\u001b[38;5;124;43m\"\u001b[39;49m\u001b[43m]\u001b[49m\u001b[43m,\u001b[49m\n\u001b[1;32m    182\u001b[0m \u001b[43m        \u001b[49m\u001b[43mweight_decay\u001b[49m\u001b[38;5;241;43m=\u001b[39;49m\u001b[43mgroup\u001b[49m\u001b[43m[\u001b[49m\u001b[38;5;124;43m\"\u001b[39;49m\u001b[38;5;124;43mweight_decay\u001b[39;49m\u001b[38;5;124;43m\"\u001b[39;49m\u001b[43m]\u001b[49m\u001b[43m,\u001b[49m\n\u001b[1;32m    183\u001b[0m \u001b[43m        \u001b[49m\u001b[43meps\u001b[49m\u001b[38;5;241;43m=\u001b[39;49m\u001b[43mgroup\u001b[49m\u001b[43m[\u001b[49m\u001b[38;5;124;43m\"\u001b[39;49m\u001b[38;5;124;43meps\u001b[39;49m\u001b[38;5;124;43m\"\u001b[39;49m\u001b[43m]\u001b[49m\u001b[43m,\u001b[49m\n\u001b[1;32m    184\u001b[0m \u001b[43m        \u001b[49m\u001b[43mmaximize\u001b[49m\u001b[38;5;241;43m=\u001b[39;49m\u001b[43mgroup\u001b[49m\u001b[43m[\u001b[49m\u001b[38;5;124;43m\"\u001b[39;49m\u001b[38;5;124;43mmaximize\u001b[39;49m\u001b[38;5;124;43m\"\u001b[39;49m\u001b[43m]\u001b[49m\u001b[43m,\u001b[49m\n\u001b[1;32m    185\u001b[0m \u001b[43m        \u001b[49m\u001b[43mforeach\u001b[49m\u001b[38;5;241;43m=\u001b[39;49m\u001b[43mgroup\u001b[49m\u001b[43m[\u001b[49m\u001b[38;5;124;43m\"\u001b[39;49m\u001b[38;5;124;43mforeach\u001b[39;49m\u001b[38;5;124;43m\"\u001b[39;49m\u001b[43m]\u001b[49m\u001b[43m,\u001b[49m\n\u001b[1;32m    186\u001b[0m \u001b[43m        \u001b[49m\u001b[43mcapturable\u001b[49m\u001b[38;5;241;43m=\u001b[39;49m\u001b[43mgroup\u001b[49m\u001b[43m[\u001b[49m\u001b[38;5;124;43m\"\u001b[39;49m\u001b[38;5;124;43mcapturable\u001b[39;49m\u001b[38;5;124;43m\"\u001b[39;49m\u001b[43m]\u001b[49m\u001b[43m,\u001b[49m\n\u001b[1;32m    187\u001b[0m \u001b[43m        \u001b[49m\u001b[43mdifferentiable\u001b[49m\u001b[38;5;241;43m=\u001b[39;49m\u001b[43mgroup\u001b[49m\u001b[43m[\u001b[49m\u001b[38;5;124;43m\"\u001b[39;49m\u001b[38;5;124;43mdifferentiable\u001b[39;49m\u001b[38;5;124;43m\"\u001b[39;49m\u001b[43m]\u001b[49m\u001b[43m,\u001b[49m\n\u001b[1;32m    188\u001b[0m \u001b[43m        \u001b[49m\u001b[43mfused\u001b[49m\u001b[38;5;241;43m=\u001b[39;49m\u001b[43mgroup\u001b[49m\u001b[43m[\u001b[49m\u001b[38;5;124;43m\"\u001b[39;49m\u001b[38;5;124;43mfused\u001b[39;49m\u001b[38;5;124;43m\"\u001b[39;49m\u001b[43m]\u001b[49m\u001b[43m,\u001b[49m\n\u001b[1;32m    189\u001b[0m \u001b[43m        \u001b[49m\u001b[43mgrad_scale\u001b[49m\u001b[38;5;241;43m=\u001b[39;49m\u001b[38;5;28;43mgetattr\u001b[39;49m\u001b[43m(\u001b[49m\u001b[38;5;28;43mself\u001b[39;49m\u001b[43m,\u001b[49m\u001b[43m \u001b[49m\u001b[38;5;124;43m\"\u001b[39;49m\u001b[38;5;124;43mgrad_scale\u001b[39;49m\u001b[38;5;124;43m\"\u001b[39;49m\u001b[43m,\u001b[49m\u001b[43m \u001b[49m\u001b[38;5;28;43;01mNone\u001b[39;49;00m\u001b[43m)\u001b[49m\u001b[43m,\u001b[49m\n\u001b[1;32m    190\u001b[0m \u001b[43m        \u001b[49m\u001b[43mfound_inf\u001b[49m\u001b[38;5;241;43m=\u001b[39;49m\u001b[38;5;28;43mgetattr\u001b[39;49m\u001b[43m(\u001b[49m\u001b[38;5;28;43mself\u001b[39;49m\u001b[43m,\u001b[49m\u001b[43m \u001b[49m\u001b[38;5;124;43m\"\u001b[39;49m\u001b[38;5;124;43mfound_inf\u001b[39;49m\u001b[38;5;124;43m\"\u001b[39;49m\u001b[43m,\u001b[49m\u001b[43m \u001b[49m\u001b[38;5;28;43;01mNone\u001b[39;49;00m\u001b[43m)\u001b[49m\u001b[43m,\u001b[49m\n\u001b[1;32m    191\u001b[0m \u001b[43m    \u001b[49m\u001b[43m)\u001b[49m\n\u001b[1;32m    193\u001b[0m \u001b[38;5;28;01mreturn\u001b[39;00m loss\n",
      "File \u001b[0;32m~/.pyenv/versions/3.11.4/lib/python3.11/site-packages/torch/optim/adamw.py:321\u001b[0m, in \u001b[0;36madamw\u001b[0;34m(params, grads, exp_avgs, exp_avg_sqs, max_exp_avg_sqs, state_steps, foreach, capturable, differentiable, fused, grad_scale, found_inf, amsgrad, beta1, beta2, lr, weight_decay, eps, maximize)\u001b[0m\n\u001b[1;32m    318\u001b[0m \u001b[38;5;28;01melse\u001b[39;00m:\n\u001b[1;32m    319\u001b[0m     func \u001b[38;5;241m=\u001b[39m _single_tensor_adamw\n\u001b[0;32m--> 321\u001b[0m \u001b[43mfunc\u001b[49m\u001b[43m(\u001b[49m\n\u001b[1;32m    322\u001b[0m \u001b[43m    \u001b[49m\u001b[43mparams\u001b[49m\u001b[43m,\u001b[49m\n\u001b[1;32m    323\u001b[0m \u001b[43m    \u001b[49m\u001b[43mgrads\u001b[49m\u001b[43m,\u001b[49m\n\u001b[1;32m    324\u001b[0m \u001b[43m    \u001b[49m\u001b[43mexp_avgs\u001b[49m\u001b[43m,\u001b[49m\n\u001b[1;32m    325\u001b[0m \u001b[43m    \u001b[49m\u001b[43mexp_avg_sqs\u001b[49m\u001b[43m,\u001b[49m\n\u001b[1;32m    326\u001b[0m \u001b[43m    \u001b[49m\u001b[43mmax_exp_avg_sqs\u001b[49m\u001b[43m,\u001b[49m\n\u001b[1;32m    327\u001b[0m \u001b[43m    \u001b[49m\u001b[43mstate_steps\u001b[49m\u001b[43m,\u001b[49m\n\u001b[1;32m    328\u001b[0m \u001b[43m    \u001b[49m\u001b[43mamsgrad\u001b[49m\u001b[38;5;241;43m=\u001b[39;49m\u001b[43mamsgrad\u001b[49m\u001b[43m,\u001b[49m\n\u001b[1;32m    329\u001b[0m \u001b[43m    \u001b[49m\u001b[43mbeta1\u001b[49m\u001b[38;5;241;43m=\u001b[39;49m\u001b[43mbeta1\u001b[49m\u001b[43m,\u001b[49m\n\u001b[1;32m    330\u001b[0m \u001b[43m    \u001b[49m\u001b[43mbeta2\u001b[49m\u001b[38;5;241;43m=\u001b[39;49m\u001b[43mbeta2\u001b[49m\u001b[43m,\u001b[49m\n\u001b[1;32m    331\u001b[0m \u001b[43m    \u001b[49m\u001b[43mlr\u001b[49m\u001b[38;5;241;43m=\u001b[39;49m\u001b[43mlr\u001b[49m\u001b[43m,\u001b[49m\n\u001b[1;32m    332\u001b[0m \u001b[43m    \u001b[49m\u001b[43mweight_decay\u001b[49m\u001b[38;5;241;43m=\u001b[39;49m\u001b[43mweight_decay\u001b[49m\u001b[43m,\u001b[49m\n\u001b[1;32m    333\u001b[0m \u001b[43m    \u001b[49m\u001b[43meps\u001b[49m\u001b[38;5;241;43m=\u001b[39;49m\u001b[43meps\u001b[49m\u001b[43m,\u001b[49m\n\u001b[1;32m    334\u001b[0m \u001b[43m    \u001b[49m\u001b[43mmaximize\u001b[49m\u001b[38;5;241;43m=\u001b[39;49m\u001b[43mmaximize\u001b[49m\u001b[43m,\u001b[49m\n\u001b[1;32m    335\u001b[0m \u001b[43m    \u001b[49m\u001b[43mcapturable\u001b[49m\u001b[38;5;241;43m=\u001b[39;49m\u001b[43mcapturable\u001b[49m\u001b[43m,\u001b[49m\n\u001b[1;32m    336\u001b[0m \u001b[43m    \u001b[49m\u001b[43mdifferentiable\u001b[49m\u001b[38;5;241;43m=\u001b[39;49m\u001b[43mdifferentiable\u001b[49m\u001b[43m,\u001b[49m\n\u001b[1;32m    337\u001b[0m \u001b[43m    \u001b[49m\u001b[43mgrad_scale\u001b[49m\u001b[38;5;241;43m=\u001b[39;49m\u001b[43mgrad_scale\u001b[49m\u001b[43m,\u001b[49m\n\u001b[1;32m    338\u001b[0m \u001b[43m    \u001b[49m\u001b[43mfound_inf\u001b[49m\u001b[38;5;241;43m=\u001b[39;49m\u001b[43mfound_inf\u001b[49m\u001b[43m,\u001b[49m\n\u001b[1;32m    339\u001b[0m \u001b[43m\u001b[49m\u001b[43m)\u001b[49m\n",
      "File \u001b[0;32m~/.pyenv/versions/3.11.4/lib/python3.11/site-packages/torch/optim/adamw.py:503\u001b[0m, in \u001b[0;36m_multi_tensor_adamw\u001b[0;34m(params, grads, exp_avgs, exp_avg_sqs, max_exp_avg_sqs, state_steps, grad_scale, found_inf, amsgrad, beta1, beta2, lr, weight_decay, eps, maximize, capturable, differentiable)\u001b[0m\n\u001b[1;32m    500\u001b[0m torch\u001b[38;5;241m.\u001b[39m_foreach_add_(device_exp_avgs, device_grads, alpha\u001b[38;5;241m=\u001b[39m\u001b[38;5;241m1\u001b[39m \u001b[38;5;241m-\u001b[39m beta1)\n\u001b[1;32m    502\u001b[0m torch\u001b[38;5;241m.\u001b[39m_foreach_mul_(device_exp_avg_sqs, beta2)\n\u001b[0;32m--> 503\u001b[0m \u001b[43mtorch\u001b[49m\u001b[38;5;241;43m.\u001b[39;49m\u001b[43m_foreach_addcmul_\u001b[49m\u001b[43m(\u001b[49m\u001b[43mdevice_exp_avg_sqs\u001b[49m\u001b[43m,\u001b[49m\u001b[43m \u001b[49m\u001b[43mdevice_grads\u001b[49m\u001b[43m,\u001b[49m\u001b[43m \u001b[49m\u001b[43mdevice_grads\u001b[49m\u001b[43m,\u001b[49m\u001b[43m \u001b[49m\u001b[38;5;241;43m1\u001b[39;49m\u001b[43m \u001b[49m\u001b[38;5;241;43m-\u001b[39;49m\u001b[43m \u001b[49m\u001b[43mbeta2\u001b[49m\u001b[43m)\u001b[49m\n\u001b[1;32m    505\u001b[0m \u001b[38;5;28;01mif\u001b[39;00m capturable:\n\u001b[1;32m    506\u001b[0m     \u001b[38;5;66;03m# TODO: use foreach_pow if/when foreach_pow is added\u001b[39;00m\n\u001b[1;32m    507\u001b[0m     bias_correction1 \u001b[38;5;241m=\u001b[39m [torch\u001b[38;5;241m.\u001b[39mpow(beta1, step) \u001b[38;5;28;01mfor\u001b[39;00m step \u001b[38;5;129;01min\u001b[39;00m device_state_steps]\n",
      "\u001b[0;31mKeyboardInterrupt\u001b[0m: "
     ]
    }
   ],
   "source": [
    "train(dataloader, \n",
    "      valdataloader,\n",
    "      device=device, \n",
    "      T=500, \n",
    "      img_size=IM_SIZE, \n",
    "      channels=64, \n",
    "      batch_size=BATCH_SIZE, \n",
    "      pretrained=False, \n",
    "      metric='MSE',\n",
    "      experiment_name='raw_mse2', \n",
    "      lr=0.001,\n",
    "      )"
   ]
  },
  {
   "cell_type": "code",
   "execution_count": null,
   "id": "323fffce-ca14-4f29-9903-721b975f4da0",
   "metadata": {},
   "outputs": [],
   "source": [
    "len(val_images)"
   ]
  },
  {
   "cell_type": "code",
   "execution_count": null,
   "id": "8049952b-4357-4571-91ed-32e8f3a44920",
   "metadata": {},
   "outputs": [],
   "source": [
    "dataloader, valdataloader  = prepare_loaders()"
   ]
  },
  {
   "cell_type": "code",
   "execution_count": null,
   "id": "10d32fe4-29dd-4619-a8e5-e38974dc1cd8",
   "metadata": {},
   "outputs": [],
   "source": [
    "train(dataloader, \n",
    "      valdataloader,\n",
    "      device=device, \n",
    "      T=250, \n",
    "      img_size=IM_SIZE, \n",
    "      channels=64, \n",
    "      batch_size=BATCH_SIZE, \n",
    "      pretrained=False, \n",
    "      metric='mse',\n",
    "      experiment_name='raw_mse')"
   ]
  },
  {
   "cell_type": "code",
   "execution_count": null,
   "id": "4eddbe3f-325e-4bab-bd7c-20a39dc90b46",
   "metadata": {},
   "outputs": [],
   "source": [
    "train(dataloader, \n",
    "      valdataloader,\n",
    "      device=device, \n",
    "      T=250, \n",
    "      img_size=IM_SIZE, \n",
    "      channels=64, \n",
    "      batch_size=BATCH_SIZE, \n",
    "      pretrained=True, \n",
    "      metric='mse',\n",
    "      experiment_name='pretrained_mse')"
   ]
  },
  {
   "cell_type": "code",
   "execution_count": null,
   "id": "156ad8bc-d293-45cb-a5e1-35c61eb9bdcd",
   "metadata": {},
   "outputs": [],
   "source": [
    "(3535 / 6) *20 / 60 /60"
   ]
  },
  {
   "cell_type": "code",
   "execution_count": null,
   "id": "8c262d0f-462c-4186-8e7b-72935177b46a",
   "metadata": {},
   "outputs": [],
   "source": [
    "sdadas"
   ]
  },
  {
   "cell_type": "code",
   "execution_count": null,
   "id": "79d75c43-34be-4e91-aada-ac95be373e48",
   "metadata": {},
   "outputs": [],
   "source": [
    "(~m.unsqueeze(1)).shape"
   ]
  },
  {
   "cell_type": "code",
   "execution_count": null,
   "id": "3349281d-0673-4939-9e11-9a02520f8ab2",
   "metadata": {},
   "outputs": [],
   "source": [
    "x_known = x * ~m.unsqueeze(1)\n",
    "x_unknown = x * m.unsqueeze(1)"
   ]
  },
  {
   "cell_type": "code",
   "execution_count": null,
   "id": "1f2b7707-1a68-4482-b0f0-b76eaf06646c",
   "metadata": {},
   "outputs": [],
   "source": [
    "img_known = np.einsum('xabc->bca', x_known)"
   ]
  },
  {
   "cell_type": "code",
   "execution_count": null,
   "id": "1aea6dbb-366c-4f33-bb7e-f9f4a5ceaac2",
   "metadata": {},
   "outputs": [],
   "source": [
    "x.shape"
   ]
  },
  {
   "cell_type": "code",
   "execution_count": null,
   "id": "3a4a6543-88ab-456a-b231-ab9b856015ca",
   "metadata": {},
   "outputs": [],
   "source": [
    "plt.imshow(np.einsum('abc->bca', x_unknown[1]))"
   ]
  },
  {
   "cell_type": "code",
   "execution_count": null,
   "id": "be70d9a0-693b-42c9-83e9-acc540fe4658",
   "metadata": {},
   "outputs": [],
   "source": [
    "plt.imshow( np.einsum('abc->bca', x_known[1]))"
   ]
  },
  {
   "cell_type": "markdown",
   "id": "3a1c709c-1f83-4f4b-9b90-9fb434b4c7d7",
   "metadata": {},
   "source": [
    "# algo: \n",
    "## q-sample\n",
    "* we do it normally, for full image\n",
    "* after everything we apply masks to each of the noised image\n",
    "\n",
    "## p sample \n",
    "* we take noised image and denoise it\n",
    "* we apply masks and get values only for the maksed regions\n",
    "* we then add corresponding noised image from the q sample with masks "
   ]
  },
  {
   "cell_type": "code",
   "execution_count": null,
   "id": "a329ac5c-0503-484a-9512-920d6c2e80e9",
   "metadata": {},
   "outputs": [],
   "source": [
    "set_seed(SEED)\n",
    "im, mask = train_dataset[0]\n",
    "\n",
    "\n",
    "# Apply the mask to all three channels of the image\n",
    "result = im * mask.unsqueeze(0)\n",
    "print(result[0,0,0])\n",
    "plt.imshow(result.permute(1,2,0))\n",
    "plt.show()"
   ]
  },
  {
   "cell_type": "code",
   "execution_count": null,
   "id": "18dc92e2-2abc-4c9d-95f6-71679cf0c758",
   "metadata": {},
   "outputs": [],
   "source": []
  }
 ],
 "metadata": {
  "kernelspec": {
   "display_name": "Python 3 (ipykernel)",
   "language": "python",
   "name": "python3"
  },
  "language_info": {
   "codemirror_mode": {
    "name": "ipython",
    "version": 3
   },
   "file_extension": ".py",
   "mimetype": "text/x-python",
   "name": "python",
   "nbconvert_exporter": "python",
   "pygments_lexer": "ipython3",
   "version": "3.11.4"
  }
 },
 "nbformat": 4,
 "nbformat_minor": 5
}
